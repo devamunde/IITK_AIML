{
 "cells": [
  {
   "cell_type": "markdown",
   "id": "aff68bd6-268f-4c1f-8eed-d0f3adbdc84d",
   "metadata": {},
   "source": [
    "### Problem statement:\n",
    "#### In today’s fast-paced world, individuals need to track and manage their expenses\n",
    "#### effectively. Your task is to build a personal expense tracker that allows users to log\n",
    "#### daily expenses, categorize them, and track spending against a monthly budget. The\n",
    "#### tracker should also be able to save and load expenses from a file for future\n",
    "#### reference.\n",
    "### Objectives:\n",
    "#### 1. Design and implement a personal expense tracker that enables users to\n",
    "#### manage their expenses\n",
    "#### 2. Allow users to categorize expenses and set monthly budgets\n",
    "#### 3. Implement file-handling functionality to save and load expense data\n",
    "#### 4. Create an interactive, menu-driven interface for ease of use"
   ]
  },
  {
   "cell_type": "markdown",
   "id": "5a27e225-f575-4962-8614-9164db0d194f",
   "metadata": {},
   "source": [
    "### Import the required Labraries "
   ]
  },
  {
   "cell_type": "code",
   "execution_count": 1,
   "id": "df257624-e213-45a6-8551-b058d6a6d042",
   "metadata": {},
   "outputs": [],
   "source": [
    "import csv"
   ]
  },
  {
   "cell_type": "markdown",
   "id": "0a128d7b-e0ef-4290-a964-950b17c1326a",
   "metadata": {},
   "source": [
    "### Decalre the golable varables"
   ]
  },
  {
   "cell_type": "code",
   "execution_count": 2,
   "id": "8a79d05a-6f53-456b-b1b1-1f17be00d7c6",
   "metadata": {},
   "outputs": [],
   "source": [
    " expense_stor=[]"
   ]
  },
  {
   "cell_type": "markdown",
   "id": "157f92ec-6d4d-4395-b85c-2d0574c95f99",
   "metadata": {},
   "source": [
    "### 1. Add an expense:\n",
    "- add the deatil expense like date,category,amount,description\n",
    "- Create a function to prompt the user for expense details. Ensure you ask for:\n",
    "o The date of the expense in the format YYYY-MM-DD\n",
    "o The category of the expense, such as Food or Travel\n",
    "o The amount spent\n",
    "o A brief description of the expense\n",
    "• Store the expense in a list as a dictionary, where each dictionary includes the\n",
    "date, category, amount, and description as key-value pairs\n",
    "Example:\n",
    "{'date': '2024-09-18', 'category': 'Food', 'amount': 15.50, 'description':\n",
    "'Lunch with friends'}"
   ]
  },
  {
   "cell_type": "code",
   "execution_count": 3,
   "id": "8015c5a5-a27d-492e-9d5b-9dddb688f52e",
   "metadata": {},
   "outputs": [],
   "source": [
    "def add_expense(expense_stor):\n",
    "    \"\"\"This function is adding the expense and store into the list as key value pair\"\"\"\n",
    "    user_input_date=input(\"Please enter the date in the format YYYY-MM-DD\")\n",
    "    user_input_category=input(\"please enter the category of the expense, such as Food or Travel\")\n",
    "    user_amount=float(input(\"please enter the spent amount\"))\n",
    "    user_expense_desc=input(\"please enter the brief description of the expense\")\n",
    "    expense_stor.append({\"date\" :user_input_date,\"category\": user_input_category,\"amount\":user_amount,\"description\":user_expense_desc})\n",
    "    print(\"entered epenses have been added successfully\")\n",
    "    "
   ]
  },
  {
   "cell_type": "code",
   "execution_count": 4,
   "id": "7587b709-9ac4-4394-8011-0633cec3467a",
   "metadata": {},
   "outputs": [],
   "source": [
    "#expense_stor"
   ]
  },
  {
   "cell_type": "markdown",
   "id": "3e089a78-5ab0-461a-acb5-62fbe982f54e",
   "metadata": {},
   "source": [
    "### 2. View expenses:\n",
    "- View the added expenses \n",
    "- Validate the added expenses"
   ]
  },
  {
   "cell_type": "code",
   "execution_count": 5,
   "id": "b4ad5383-4072-4bc9-9a4c-da6aefb72617",
   "metadata": {},
   "outputs": [],
   "source": [
    "def view_expenses(expenseDetails):\n",
    "    \"\"\" This function is validating the required details and displaing the expense \"\"\"\n",
    "    if not expenseDetails:\n",
    "        print(\"No any expenses added in the list\")\n",
    "    else:\n",
    "        for expense in expenseDetails:\n",
    "            if all(key in expense for key in ['date','category','amount','description']):\n",
    "                print(f\"expense details : \\n    date: {expense['date']} \\n    category: {expense['category']} \\n    amount: {expense['amount']} \\n    description: {expense['description']} \")\n",
    "            else:\n",
    "                print(f\"invalid expense please enter again {expense} \")"
   ]
  },
  {
   "cell_type": "code",
   "execution_count": 6,
   "id": "b6f4e6b1-f507-4650-8b81-a8f9afa295c2",
   "metadata": {},
   "outputs": [],
   "source": [
    "#view_expenses(expense_stor)"
   ]
  },
  {
   "cell_type": "markdown",
   "id": "381152f1-c3a9-497d-847a-2ff0e3493839",
   "metadata": {},
   "source": [
    "### 3. Set and track the budget:\n",
    "* Create a function that allows the user to input a monthly budget. Prompt the\n",
    "user to:Enter the total amount they want to budget for the month.\n",
    "\n",
    "* Create another function that calculates the total expenses recorded so far \n",
    "-  Compare the total with the user’s monthly budget\n",
    "-  If the total expenses exceed the budget, display a warning (Example:\n",
    "You have exceeded your budget!)\n",
    "* If the expenses are within the budget, display the remaining balance\n",
    "(Example: You have 150 left for the month)"
   ]
  },
  {
   "cell_type": "code",
   "execution_count": 7,
   "id": "b5f29c42-3ae9-4152-91b8-0482555aabfd",
   "metadata": {},
   "outputs": [],
   "source": [
    "#This function is allows the user to input a monthly budget.\n",
    "def set_budget():\n",
    "    \"\"\" This function is capturing the monthly total budget \"\"\"\n",
    "    return float(input('please enter your monthly budget : '))"
   ]
  },
  {
   "cell_type": "code",
   "execution_count": 8,
   "id": "d65f95f8-56d8-4daf-a24e-bba5c2d51fbd",
   "metadata": {},
   "outputs": [],
   "source": [
    "#set_budget()"
   ]
  },
  {
   "cell_type": "code",
   "execution_count": 9,
   "id": "8ae66477-0dfe-49f8-8918-2a75b13df90a",
   "metadata": {},
   "outputs": [],
   "source": [
    "def track_budget(expenseDetails,monthlyBudget):\n",
    "    \"\"\"this function is help to track the budget and give the worning accordingly\"\"\"\n",
    "    #Calculate the total expenses\n",
    "    total_expenses=sum(expense[\"amount\"] for expense in expenseDetails)\n",
    "    print(f\"Total Expenses : {total_expenses}\")\n",
    "    # compare the total expenses with assigned budget and provide the woring accordingly.\n",
    "    if(total_expenses > monthlyBudget ):\n",
    "        print(f\"WARNING : You have exceeded your budget. \\n Your Total Monthly budget is : {monthlyBudget} \\n your current total expenses is : {total_expenses}\")\n",
    "    else:\n",
    "        print(f\" You are within the budget. \\n Your Total reaming budget is : {monthlyBudget - total_expenses} \")\n",
    "\n",
    "    "
   ]
  },
  {
   "cell_type": "code",
   "execution_count": 10,
   "id": "d2180e7c-7f15-4e23-8a5c-4939fa90949e",
   "metadata": {},
   "outputs": [],
   "source": [
    "#track_budget(expense_stor,set_budget())"
   ]
  },
  {
   "cell_type": "markdown",
   "id": "9c3a361d-b71d-42d3-a0ac-c03dc9555f81",
   "metadata": {},
   "source": [
    "### 4. Save and load expenses:\n",
    "####Save\n",
    "- Function to save all expenses to a CSV file, with each row containing the date, category, amount, and description of each expense\n",
    "\n",
    "####Load\n",
    "- Function to load expenses from the CSV file. When the program starts,it will Read the saved data from the file\n",
    "-   it back into the list of expenses so the user can see their previous expenses and continue from where they left off"
   ]
  },
  {
   "cell_type": "code",
   "execution_count": 11,
   "id": "4384915e-b9ef-4c82-b4ef-3aef47e571a9",
   "metadata": {},
   "outputs": [],
   "source": [
    "def save_expenses(expenses,fileName='expense.csv'):\n",
    "    \"\"\"This function is saving the expense into a file\"\"\"\n",
    "    with open(fileName,'w',newline='') as file:\n",
    "        writer=csv.writer(file)\n",
    "        writer.writerow([\"Date\",\"Category\",\"Amount\",\"Description\"])\n",
    "        list(map(lambda expense: writer.writerow([expense[\"date\"],expense[\"category\"],expense[\"amount\"],expense[\"description\"]]), expenses))\n",
    "       # for expense in expenses:\n",
    "           # writer.writerow([expense[\"date\"],expense[\"category\"],expense[\"amount\"],expense[\"description\"]])\n",
    "    print(f\" Total number of { len(expenses)}  expenses saved successfully in the file\")\n",
    "    "
   ]
  },
  {
   "cell_type": "code",
   "execution_count": 12,
   "id": "2a293afa-5101-4b6c-b10d-f1505aafa3b5",
   "metadata": {},
   "outputs": [],
   "source": [
    "#save_expenses(expense_stor,fileName=\"expense.csv\")"
   ]
  },
  {
   "cell_type": "code",
   "execution_count": 13,
   "id": "3889a4ef-8f29-414b-a83b-65986088e75a",
   "metadata": {},
   "outputs": [],
   "source": [
    "def load_expenses(fileName='expense.csv'):\n",
    "    \"\"\"This function is loading the expenses from the file\"\"\"\n",
    "    expenses=[]\n",
    "    try:\n",
    "        with open(fileName,'r') as file:\n",
    "            reader=csv.DictReader(file)\n",
    "            for row in reader:\n",
    "                if all(key in row for key in [\"Date\",\"Category\",\"Amount\",\"Description\"]):\n",
    "                    row[\"Amount\"]=float(row[\"Amount\"])\n",
    "                    expense={'date':row['Date'],'category':row['Category'],'amount':row['Amount'],'description':row['Description']}\n",
    "                    expenses.append(expense)\n",
    "                else:\n",
    "                    print(f\"skipping the Invalid expense record : \\n {row}\")\n",
    "    except FileNotFoundError :\n",
    "        print(\"No existing expenses records file found . please add the expenes in the file\")\n",
    "\n",
    "    return expenses\n",
    "\n",
    "                \n",
    "        "
   ]
  },
  {
   "cell_type": "code",
   "execution_count": 14,
   "id": "0b4d992d-6cf2-4cfa-9cc1-9f5813b22b0e",
   "metadata": {},
   "outputs": [],
   "source": [
    "#load_expenses(fileName='expense.csv')"
   ]
  },
  {
   "cell_type": "markdown",
   "id": "d9799395-80da-4574-bc41-2af59225648b",
   "metadata": {},
   "source": [
    "### 5. Create an interactive menu:\n",
    "- This function to display a menu with the following options:\n",
    "-  1. Add expense\n",
    "-  2. View expenses\n",
    "-  3. Track budget\n",
    "-  4. Save expenses\n",
    "-  5. Exit\n",
    "-  Allow the user to enter a number to choose an option\n",
    "- It provide the  following conditions to user input:\n",
    "-      If the user selects option 1, call the function to add an expense\n",
    "-      If the user selects option 2, call the function to view expenses\n",
    "-      If the user selects option 3, call the function to track the budget\n",
    "-      If the user selects option 4, call the function to save expenses to the file\n",
    "-      If the user selects option 5, save the expenses and exit the program"
   ]
  },
  {
   "cell_type": "code",
   "execution_count": 15,
   "id": "3cb2328c-fe23-4ba9-88f0-c353451fc96a",
   "metadata": {},
   "outputs": [],
   "source": [
    "def main():\n",
    "    expenses=load_expenses()\n",
    "    budget=set_budget()\n",
    "\n",
    "    while True:\n",
    "        print(\"\\n Personal Expense Tracker\")\n",
    "        print(\"1. Add expense\")\n",
    "        print(\"2. View expenses\")\n",
    "        print(\"3. Track budget\")\n",
    "        print(\"4. Save expenses\")\n",
    "        print(\"5. Exit\")\n",
    "        choice=int(input(\"please enter your choice\"))\n",
    "\n",
    "        if(choice==1):\n",
    "            add_expense(expense_stor)\n",
    "        elif(choice==2):\n",
    "            view_expenses(expense_stor)\n",
    "            \n",
    "        elif(choice==3):\n",
    "            track_budget(expense_stor,budget)\n",
    "            \n",
    "        elif(choice==4):\n",
    "            save_expenses(expense_stor,fileName='expense.csv')\n",
    "\n",
    "        elif(choice==5):\n",
    "            save_expenses(expense_stor,fileName='expense.csv')\n",
    "            print(\"existing...\")\n",
    "            break\n",
    "        else:\n",
    "            print(\"Inavlid choice please select the correct choice\")\n",
    "            \n",
    "            \n",
    "            \n",
    "     "
   ]
  },
  {
   "cell_type": "markdown",
   "id": "574872c9-6045-40e6-88d5-bd16f9b26a0f",
   "metadata": {},
   "source": [
    "#### Run Main function"
   ]
  },
  {
   "cell_type": "code",
   "execution_count": 16,
   "id": "cbe59e19-b96a-43cb-b113-c90a9c5b326b",
   "metadata": {},
   "outputs": [
    {
     "name": "stdin",
     "output_type": "stream",
     "text": [
      "please enter your monthly budget :  5000\n"
     ]
    },
    {
     "name": "stdout",
     "output_type": "stream",
     "text": [
      "\n",
      " Personal Expense Tracker\n",
      "1. Add expense\n",
      "2. View expenses\n",
      "3. Track budget\n",
      "4. Save expenses\n",
      "5. Exit\n"
     ]
    },
    {
     "name": "stdin",
     "output_type": "stream",
     "text": [
      "please enter your choice 1\n",
      "Please enter the date in the format YYYY-MM-DD 2024-06-07\n",
      "please enter the category of the expense, such as Food or Travel Travel\n",
      "please enter the spent amount 2000\n",
      "please enter the brief description of the expense Travel for business meetings\n"
     ]
    },
    {
     "name": "stdout",
     "output_type": "stream",
     "text": [
      "entered epenses have been added successfully\n",
      "\n",
      " Personal Expense Tracker\n",
      "1. Add expense\n",
      "2. View expenses\n",
      "3. Track budget\n",
      "4. Save expenses\n",
      "5. Exit\n"
     ]
    },
    {
     "name": "stdin",
     "output_type": "stream",
     "text": [
      "please enter your choice 2\n"
     ]
    },
    {
     "name": "stdout",
     "output_type": "stream",
     "text": [
      "expense details : \n",
      "    date: 2024-06-07 \n",
      "    category: Travel \n",
      "    amount: 2000.0 \n",
      "    description: Travel for business meetings \n",
      "\n",
      " Personal Expense Tracker\n",
      "1. Add expense\n",
      "2. View expenses\n",
      "3. Track budget\n",
      "4. Save expenses\n",
      "5. Exit\n"
     ]
    },
    {
     "name": "stdin",
     "output_type": "stream",
     "text": [
      "please enter your choice 3\n"
     ]
    },
    {
     "name": "stdout",
     "output_type": "stream",
     "text": [
      "Total Expenses : 2000.0\n",
      " You are within the budget. \n",
      " Your Total reaming budget is : 3000.0 \n",
      "\n",
      " Personal Expense Tracker\n",
      "1. Add expense\n",
      "2. View expenses\n",
      "3. Track budget\n",
      "4. Save expenses\n",
      "5. Exit\n"
     ]
    },
    {
     "name": "stdin",
     "output_type": "stream",
     "text": [
      "please enter your choice 4\n"
     ]
    },
    {
     "name": "stdout",
     "output_type": "stream",
     "text": [
      " Total number of 1  expenses saved successfully in the file\n",
      "\n",
      " Personal Expense Tracker\n",
      "1. Add expense\n",
      "2. View expenses\n",
      "3. Track budget\n",
      "4. Save expenses\n",
      "5. Exit\n"
     ]
    },
    {
     "name": "stdin",
     "output_type": "stream",
     "text": [
      "please enter your choice 1\n",
      "Please enter the date in the format YYYY-MM-DD 2024-06\n",
      "please enter the category of the expense, such as Food or Travel food\n",
      "please enter the spent amount 1000\n",
      "please enter the brief description of the expense lunch with product owner\n"
     ]
    },
    {
     "name": "stdout",
     "output_type": "stream",
     "text": [
      "entered epenses have been added successfully\n",
      "\n",
      " Personal Expense Tracker\n",
      "1. Add expense\n",
      "2. View expenses\n",
      "3. Track budget\n",
      "4. Save expenses\n",
      "5. Exit\n"
     ]
    },
    {
     "name": "stdin",
     "output_type": "stream",
     "text": [
      "please enter your choice 2\n"
     ]
    },
    {
     "name": "stdout",
     "output_type": "stream",
     "text": [
      "expense details : \n",
      "    date: 2024-06-07 \n",
      "    category: Travel \n",
      "    amount: 2000.0 \n",
      "    description: Travel for business meetings \n",
      "expense details : \n",
      "    date: 2024-06 \n",
      "    category: food \n",
      "    amount: 1000.0 \n",
      "    description: lunch with product owner \n",
      "\n",
      " Personal Expense Tracker\n",
      "1. Add expense\n",
      "2. View expenses\n",
      "3. Track budget\n",
      "4. Save expenses\n",
      "5. Exit\n"
     ]
    },
    {
     "name": "stdin",
     "output_type": "stream",
     "text": [
      "please enter your choice 3\n"
     ]
    },
    {
     "name": "stdout",
     "output_type": "stream",
     "text": [
      "Total Expenses : 3000.0\n",
      " You are within the budget. \n",
      " Your Total reaming budget is : 2000.0 \n",
      "\n",
      " Personal Expense Tracker\n",
      "1. Add expense\n",
      "2. View expenses\n",
      "3. Track budget\n",
      "4. Save expenses\n",
      "5. Exit\n"
     ]
    },
    {
     "name": "stdin",
     "output_type": "stream",
     "text": [
      "please enter your choice 4\n"
     ]
    },
    {
     "name": "stdout",
     "output_type": "stream",
     "text": [
      " Total number of 2  expenses saved successfully in the file\n",
      "\n",
      " Personal Expense Tracker\n",
      "1. Add expense\n",
      "2. View expenses\n",
      "3. Track budget\n",
      "4. Save expenses\n",
      "5. Exit\n"
     ]
    },
    {
     "name": "stdin",
     "output_type": "stream",
     "text": [
      "please enter your choice 1\n",
      "Please enter the date in the format YYYY-MM-DD 2024-02-23\n",
      "please enter the category of the expense, such as Food or Travel Travel\n",
      "please enter the spent amount 1000\n",
      "please enter the brief description of the expense client travel\n"
     ]
    },
    {
     "name": "stdout",
     "output_type": "stream",
     "text": [
      "entered epenses have been added successfully\n",
      "\n",
      " Personal Expense Tracker\n",
      "1. Add expense\n",
      "2. View expenses\n",
      "3. Track budget\n",
      "4. Save expenses\n",
      "5. Exit\n"
     ]
    },
    {
     "name": "stdin",
     "output_type": "stream",
     "text": [
      "please enter your choice 2\n"
     ]
    },
    {
     "name": "stdout",
     "output_type": "stream",
     "text": [
      "expense details : \n",
      "    date: 2024-06-07 \n",
      "    category: Travel \n",
      "    amount: 2000.0 \n",
      "    description: Travel for business meetings \n",
      "expense details : \n",
      "    date: 2024-06 \n",
      "    category: food \n",
      "    amount: 1000.0 \n",
      "    description: lunch with product owner \n",
      "expense details : \n",
      "    date: 2024-02-23 \n",
      "    category: Travel \n",
      "    amount: 1000.0 \n",
      "    description: client travel \n",
      "\n",
      " Personal Expense Tracker\n",
      "1. Add expense\n",
      "2. View expenses\n",
      "3. Track budget\n",
      "4. Save expenses\n",
      "5. Exit\n"
     ]
    },
    {
     "name": "stdin",
     "output_type": "stream",
     "text": [
      "please enter your choice 3\n"
     ]
    },
    {
     "name": "stdout",
     "output_type": "stream",
     "text": [
      "Total Expenses : 4000.0\n",
      " You are within the budget. \n",
      " Your Total reaming budget is : 1000.0 \n",
      "\n",
      " Personal Expense Tracker\n",
      "1. Add expense\n",
      "2. View expenses\n",
      "3. Track budget\n",
      "4. Save expenses\n",
      "5. Exit\n"
     ]
    },
    {
     "name": "stdin",
     "output_type": "stream",
     "text": [
      "please enter your choice 4\n"
     ]
    },
    {
     "name": "stdout",
     "output_type": "stream",
     "text": [
      " Total number of 3  expenses saved successfully in the file\n",
      "\n",
      " Personal Expense Tracker\n",
      "1. Add expense\n",
      "2. View expenses\n",
      "3. Track budget\n",
      "4. Save expenses\n",
      "5. Exit\n"
     ]
    },
    {
     "name": "stdin",
     "output_type": "stream",
     "text": [
      "please enter your choice 1\n",
      "Please enter the date in the format YYYY-MM-DD 2024-03-06\n",
      "please enter the category of the expense, such as Food or Travel food\n",
      "please enter the spent amount 2000\n",
      "please enter the brief description of the expense break fast with client\n"
     ]
    },
    {
     "name": "stdout",
     "output_type": "stream",
     "text": [
      "entered epenses have been added successfully\n",
      "\n",
      " Personal Expense Tracker\n",
      "1. Add expense\n",
      "2. View expenses\n",
      "3. Track budget\n",
      "4. Save expenses\n",
      "5. Exit\n"
     ]
    },
    {
     "name": "stdin",
     "output_type": "stream",
     "text": [
      "please enter your choice 1\n",
      "Please enter the date in the format YYYY-MM-DD 2025-03-08\n",
      "please enter the category of the expense, such as Food or Travel travel\n",
      "please enter the spent amount 500\n",
      "please enter the brief description of the expense bus ticket for client\n"
     ]
    },
    {
     "name": "stdout",
     "output_type": "stream",
     "text": [
      "entered epenses have been added successfully\n",
      "\n",
      " Personal Expense Tracker\n",
      "1. Add expense\n",
      "2. View expenses\n",
      "3. Track budget\n",
      "4. Save expenses\n",
      "5. Exit\n"
     ]
    },
    {
     "name": "stdin",
     "output_type": "stream",
     "text": [
      "please enter your choice 2\n"
     ]
    },
    {
     "name": "stdout",
     "output_type": "stream",
     "text": [
      "expense details : \n",
      "    date: 2024-06-07 \n",
      "    category: Travel \n",
      "    amount: 2000.0 \n",
      "    description: Travel for business meetings \n",
      "expense details : \n",
      "    date: 2024-06 \n",
      "    category: food \n",
      "    amount: 1000.0 \n",
      "    description: lunch with product owner \n",
      "expense details : \n",
      "    date: 2024-02-23 \n",
      "    category: Travel \n",
      "    amount: 1000.0 \n",
      "    description: client travel \n",
      "expense details : \n",
      "    date: 2024-03-06 \n",
      "    category: food \n",
      "    amount: 2000.0 \n",
      "    description: break fast with client \n",
      "expense details : \n",
      "    date: 2025-03-08 \n",
      "    category: travel \n",
      "    amount: 500.0 \n",
      "    description: bus ticket for client \n",
      "\n",
      " Personal Expense Tracker\n",
      "1. Add expense\n",
      "2. View expenses\n",
      "3. Track budget\n",
      "4. Save expenses\n",
      "5. Exit\n"
     ]
    },
    {
     "name": "stdin",
     "output_type": "stream",
     "text": [
      "please enter your choice 3\n"
     ]
    },
    {
     "name": "stdout",
     "output_type": "stream",
     "text": [
      "Total Expenses : 6500.0\n",
      "WARNING : You have exceeded your budget. \n",
      " Your Total Monthly budget is : 5000.0 \n",
      " your current total expenses is : 6500.0\n",
      "\n",
      " Personal Expense Tracker\n",
      "1. Add expense\n",
      "2. View expenses\n",
      "3. Track budget\n",
      "4. Save expenses\n",
      "5. Exit\n"
     ]
    },
    {
     "name": "stdin",
     "output_type": "stream",
     "text": [
      "please enter your choice 4\n"
     ]
    },
    {
     "name": "stdout",
     "output_type": "stream",
     "text": [
      " Total number of 5  expenses saved successfully in the file\n",
      "\n",
      " Personal Expense Tracker\n",
      "1. Add expense\n",
      "2. View expenses\n",
      "3. Track budget\n",
      "4. Save expenses\n",
      "5. Exit\n"
     ]
    },
    {
     "name": "stdin",
     "output_type": "stream",
     "text": [
      "please enter your choice 5\n"
     ]
    },
    {
     "name": "stdout",
     "output_type": "stream",
     "text": [
      " Total number of 5  expenses saved successfully in the file\n",
      "existing...\n"
     ]
    }
   ],
   "source": [
    "if __name__==\"__main__\":\n",
    "    main()"
   ]
  }
 ],
 "metadata": {
  "kernelspec": {
   "display_name": "Python 3 (ipykernel)",
   "language": "python",
   "name": "python3"
  },
  "language_info": {
   "codemirror_mode": {
    "name": "ipython",
    "version": 3
   },
   "file_extension": ".py",
   "mimetype": "text/x-python",
   "name": "python",
   "nbconvert_exporter": "python",
   "pygments_lexer": "ipython3",
   "version": "3.13.3"
  }
 },
 "nbformat": 4,
 "nbformat_minor": 5
}
